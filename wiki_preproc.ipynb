{
 "cells": [
  {
   "cell_type": "markdown",
   "id": "4d45a2e4",
   "metadata": {},
   "source": [
    "#### Read json file"
   ]
  },
  {
   "cell_type": "code",
   "execution_count": null,
   "id": "d778f517",
   "metadata": {},
   "outputs": [],
   "source": [
    "import pandas as pd\n",
    "df = pd.read_json('path_of_the_file', lines=True)"
   ]
  },
  {
   "cell_type": "markdown",
   "id": "19883634",
   "metadata": {},
   "source": [
    "#### Remove 'revid' column and change 'id' to 'doc_id'"
   ]
  },
  {
   "cell_type": "code",
   "execution_count": null,
   "id": "40360454",
   "metadata": {},
   "outputs": [],
   "source": [
    "df = df.loc[:, ['id', 'url', 'title', 'text']]\n",
    "df.columns = ['doc_id', 'url', 'title', 'text']\n",
    "df.head()"
   ]
  },
  {
   "cell_type": "markdown",
   "id": "bda1a5b4",
   "metadata": {},
   "source": [
    "#### Split document into section"
   ]
  },
  {
   "cell_type": "code",
   "execution_count": null,
   "id": "b0ac1ec4",
   "metadata": {},
   "outputs": [],
   "source": [
    "import re\n",
    "p = re.compile('###section(\\d+)###')"
   ]
  },
  {
   "cell_type": "code",
   "execution_count": null,
   "id": "fce25c65",
   "metadata": {},
   "outputs": [],
   "source": [
    "doc_idx = 0\n",
    "doc_title = df['title'][doc_idx]\n",
    "doc_text = df['text'][doc_idx]\n",
    "sec_titles = []\n",
    "sec_texts = []"
   ]
  },
  {
   "cell_type": "code",
   "execution_count": null,
   "id": "2af4d46b",
   "metadata": {},
   "outputs": [],
   "source": [
    "sub_lvs = [1]\n",
    "sub_titles = [doc_title]\n",
    "sub_texts = ['']\n",
    "for line in doc_text.splitlines():\n",
    "    m = p.match(line)\n",
    "    if m:\n",
    "        sub_lv = int(m.group(1))\n",
    "        sub_title = line[m.span()[1]:]\n",
    "        if sub_lvs[-1] < sub_lv:\n",
    "            sub_title = sub_titles[-1] + ' ' + sub_title\n",
    "        else:\n",
    "            for bw in range(1, len(sub_lvs) + 1):\n",
    "                if sub_lvs[-bw] < sub_lv:\n",
    "                    sub_title = sub_titles[-bw] + ' ' + sub_title\n",
    "                    break\n",
    "                    \n",
    "        for bw in range(1, len(sub_lvs) + 1):\n",
    "            if sub_lvs[-bw] < sub_lv:\n",
    "                sub_texts.append(sub_texts[-bw])\n",
    "                break\n",
    "                    \n",
    "                    \n",
    "        sub_lvs.append(sub_lv)\n",
    "        sub_titles.append(sub_title)\n",
    "        \n",
    "        \n",
    "    else:\n",
    "        sub_texts[-1] += ' ' + line"
   ]
  }
 ],
 "metadata": {
  "kernelspec": {
   "display_name": "Python 3 (ipykernel)",
   "language": "python",
   "name": "python3"
  },
  "language_info": {
   "codemirror_mode": {
    "name": "ipython",
    "version": 3
   },
   "file_extension": ".py",
   "mimetype": "text/x-python",
   "name": "python",
   "nbconvert_exporter": "python",
   "pygments_lexer": "ipython3",
   "version": "3.8.11"
  }
 },
 "nbformat": 4,
 "nbformat_minor": 5
}
